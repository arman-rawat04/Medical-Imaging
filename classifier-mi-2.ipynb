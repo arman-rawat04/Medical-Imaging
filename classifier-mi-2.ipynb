{
 "cells": [
  {
   "cell_type": "code",
   "execution_count": 1,
   "id": "f3ad78f7",
   "metadata": {
    "_cell_guid": "b1076dfc-b9ad-4769-8c92-a6c4dae69d19",
    "_uuid": "8f2839f25d086af736a60e9eeb907d3b93b6e0e5",
    "execution": {
     "iopub.execute_input": "2025-05-09T00:11:49.211196Z",
     "iopub.status.busy": "2025-05-09T00:11:49.210906Z",
     "iopub.status.idle": "2025-05-09T00:11:52.544339Z",
     "shell.execute_reply": "2025-05-09T00:11:52.543039Z"
    },
    "papermill": {
     "duration": 3.33883,
     "end_time": "2025-05-09T00:11:52.546054",
     "exception": false,
     "start_time": "2025-05-09T00:11:49.207224",
     "status": "completed"
    },
    "tags": []
   },
   "outputs": [
    {
     "name": "stdout",
     "output_type": "stream",
     "text": [
      "Fitting 5 folds for each of 12 candidates, totalling 60 fits\n",
      "Best Parameters: {'svc__C': 10, 'svc__gamma': 'scale', 'svc__kernel': 'rbf'}\n",
      "\n",
      " Classification Report:\n",
      "               precision    recall  f1-score   support\n",
      "\n",
      "           0       0.91      0.59      0.71        17\n",
      "           1       0.68      0.94      0.79        16\n",
      "\n",
      "    accuracy                           0.76        33\n",
      "   macro avg       0.80      0.76      0.75        33\n",
      "weighted avg       0.80      0.76      0.75        33\n",
      "\n",
      "Confusion Matrix:\n",
      " [[10  7]\n",
      " [ 1 15]]\n"
     ]
    }
   ],
   "source": [
    "import numpy as np\n",
    "from sklearn.svm import SVC\n",
    "from sklearn.model_selection import GridSearchCV, StratifiedKFold\n",
    "from sklearn.preprocessing import StandardScaler\n",
    "from sklearn.pipeline import Pipeline\n",
    "from sklearn.metrics import classification_report, confusion_matrix\n",
    "\n",
    "# Load .npy files\n",
    "X_train = np.load('/kaggle/input/classifier-data/X_train.npy')\n",
    "y_train_raw = np.load('/kaggle/input/classifier-data/y_train.npy')\n",
    "X_test = np.load('/kaggle/input/classifier-data/X_test.npy')\n",
    "y_test_raw = np.load('/kaggle/input/classifier-data/y_test.npy')\n",
    "\n",
    "# Convert y from multi-label to binary (1 if any class is active, else 0)\n",
    "y_train = (y_train_raw.sum(axis=1) > 0).astype(int)\n",
    "y_test = (y_test_raw.sum(axis=1) > 0).astype(int)\n",
    "\n",
    "# Define a pipeline: scaling + SVM\n",
    "pipeline = Pipeline([\n",
    "    ('scaler', StandardScaler()),\n",
    "    ('svc', SVC(class_weight='balanced'))\n",
    "])\n",
    "\n",
    "# Define parameter grid\n",
    "param_grid = {\n",
    "    'svc__C': [0.1, 1, 10],\n",
    "    'svc__kernel': ['linear', 'rbf'],\n",
    "    'svc__gamma': ['scale', 'auto']\n",
    "}\n",
    "\n",
    "# Stratified K-Fold for balanced validation\n",
    "cv = StratifiedKFold(n_splits=5, shuffle=True, random_state=42)\n",
    "\n",
    "# Grid Search with F1 score\n",
    "grid_search = GridSearchCV(\n",
    "    pipeline,\n",
    "    param_grid,\n",
    "    cv=cv,\n",
    "    scoring='f1',\n",
    "    verbose=2,\n",
    "    n_jobs=-1\n",
    ")\n",
    "\n",
    "# Fit the model\n",
    "grid_search.fit(X_train, y_train)\n",
    "\n",
    "# Show best parameters\n",
    "print(\"Best Parameters:\", grid_search.best_params_)\n",
    "\n",
    "# Predict and evaluate\n",
    "y_pred = grid_search.predict(X_test)\n",
    "\n",
    "print(\"\\n Classification Report:\\n\", classification_report(y_test, y_pred))\n",
    "print(\"Confusion Matrix:\\n\", confusion_matrix(y_test, y_pred))\n"
   ]
  },
  {
   "cell_type": "code",
   "execution_count": 2,
   "id": "6d916893",
   "metadata": {
    "execution": {
     "iopub.execute_input": "2025-05-09T00:11:52.552229Z",
     "iopub.status.busy": "2025-05-09T00:11:52.551693Z",
     "iopub.status.idle": "2025-05-09T00:11:57.978147Z",
     "shell.execute_reply": "2025-05-09T00:11:57.976941Z"
    },
    "papermill": {
     "duration": 5.431437,
     "end_time": "2025-05-09T00:11:57.980076",
     "exception": false,
     "start_time": "2025-05-09T00:11:52.548639",
     "status": "completed"
    },
    "tags": []
   },
   "outputs": [
    {
     "name": "stdout",
     "output_type": "stream",
     "text": [
      "\u001b[2K   \u001b[90m━━━━━━━━━━━━━━━━━━━━━━━━━━━━━━━━━━━━━━━━\u001b[0m \u001b[32m235.6/235.6 kB\u001b[0m \u001b[31m9.1 MB/s\u001b[0m eta \u001b[36m0:00:00\u001b[0m\r\n",
      "\u001b[?25h"
     ]
    }
   ],
   "source": [
    "!pip install -q imbalanced-learn==0.11.0\n"
   ]
  },
  {
   "cell_type": "code",
   "execution_count": 3,
   "id": "3e9617e2",
   "metadata": {
    "execution": {
     "iopub.execute_input": "2025-05-09T00:11:57.986784Z",
     "iopub.status.busy": "2025-05-09T00:11:57.986454Z",
     "iopub.status.idle": "2025-05-09T00:11:57.996215Z",
     "shell.execute_reply": "2025-05-09T00:11:57.995237Z"
    },
    "papermill": {
     "duration": 0.014762,
     "end_time": "2025-05-09T00:11:57.997552",
     "exception": false,
     "start_time": "2025-05-09T00:11:57.982790",
     "status": "completed"
    },
    "tags": []
   },
   "outputs": [
    {
     "name": "stdout",
     "output_type": "stream",
     "text": [
      "Shape: (126, 360)\n",
      "Data type: float64\n",
      "Contents:\n",
      " [[1.         0.87244898 0.87244898 ... 0.44000003 0.09       0.47000003]\n",
      " [1.         0.89456869 0.8115016  ... 0.31693989 0.48087433 0.26229507]\n",
      " [1.         0.92546584 0.8757764  ... 0.72222227 1.         0.65656567]\n",
      " ...\n",
      " [1.         0.91319444 0.81597222 ... 0.5393939  1.         0.85454547]\n",
      " [1.         0.85046729 0.77570093 ... 0.99145305 0.84615386 0.98290592]\n",
      " [1.         0.88235294 0.82972136 ... 0.56050956 0.38853505 0.54777068]]\n"
     ]
    }
   ],
   "source": [
    "import numpy as np\n",
    "\n",
    "# Load the file\n",
    "data = np.load('/kaggle/input/classifier-data/X_train.npy')\n",
    "\n",
    "# Print basic info\n",
    "print(\"Shape:\", data.shape)\n",
    "print(\"Data type:\", data.dtype)\n",
    "\n",
    "# Print the full array (for small arrays)\n",
    "print(\"Contents:\\n\", data)"
   ]
  },
  {
   "cell_type": "code",
   "execution_count": 4,
   "id": "61bc6176",
   "metadata": {
    "execution": {
     "iopub.execute_input": "2025-05-09T00:11:58.003177Z",
     "iopub.status.busy": "2025-05-09T00:11:58.002868Z",
     "iopub.status.idle": "2025-05-09T00:11:58.008290Z",
     "shell.execute_reply": "2025-05-09T00:11:58.007314Z"
    },
    "papermill": {
     "duration": 0.009813,
     "end_time": "2025-05-09T00:11:58.009693",
     "exception": false,
     "start_time": "2025-05-09T00:11:57.999880",
     "status": "completed"
    },
    "tags": []
   },
   "outputs": [
    {
     "name": "stdout",
     "output_type": "stream",
     "text": [
      "First 5 entries:\n",
      " [[1.         0.87244898 0.87244898 ... 0.44000003 0.09       0.47000003]\n",
      " [1.         0.89456869 0.8115016  ... 0.31693989 0.48087433 0.26229507]\n",
      " [1.         0.92546584 0.8757764  ... 0.72222227 1.         0.65656567]\n",
      " [1.         0.71627907 0.91627907 ... 0.64788735 0.64084512 0.28873241]\n",
      " [1.         0.89393939 0.81818182 ... 0.56291395 0.68211919 0.61589408]]\n"
     ]
    }
   ],
   "source": [
    "print(\"First 5 entries:\\n\", data[:5])"
   ]
  },
  {
   "cell_type": "code",
   "execution_count": 5,
   "id": "f7b942e9",
   "metadata": {
    "execution": {
     "iopub.execute_input": "2025-05-09T00:11:58.016031Z",
     "iopub.status.busy": "2025-05-09T00:11:58.015129Z",
     "iopub.status.idle": "2025-05-09T00:11:58.022869Z",
     "shell.execute_reply": "2025-05-09T00:11:58.021980Z"
    },
    "papermill": {
     "duration": 0.012155,
     "end_time": "2025-05-09T00:11:58.024182",
     "exception": false,
     "start_time": "2025-05-09T00:11:58.012027",
     "status": "completed"
    },
    "tags": []
   },
   "outputs": [
    {
     "name": "stdout",
     "output_type": "stream",
     "text": [
      "Shape: (126, 6)\n",
      "Data type: int64\n",
      "Contents:\n",
      " [[0 0 0 0 0 0]\n",
      " [0 0 1 0 0 0]\n",
      " [0 0 0 0 0 0]\n",
      " [0 0 0 0 0 0]\n",
      " [0 0 1 1 0 0]\n",
      " [0 0 0 0 0 0]\n",
      " [0 0 0 0 0 0]\n",
      " [0 0 0 0 0 0]\n",
      " [0 0 0 0 0 0]\n",
      " [0 0 0 0 0 0]\n",
      " [0 1 1 0 0 0]\n",
      " [0 1 1 1 0 0]\n",
      " [0 0 0 0 0 0]\n",
      " [1 1 1 1 1 1]\n",
      " [1 0 0 1 0 0]\n",
      " [0 0 1 1 0 0]\n",
      " [0 0 0 0 0 0]\n",
      " [0 0 1 1 0 0]\n",
      " [0 0 0 1 1 0]\n",
      " [0 1 1 0 0 0]\n",
      " [1 1 1 1 0 0]\n",
      " [1 1 1 1 0 0]\n",
      " [0 0 0 0 0 0]\n",
      " [0 0 0 0 0 0]\n",
      " [0 0 1 1 0 0]\n",
      " [0 1 1 1 0 0]\n",
      " [1 1 1 1 0 0]\n",
      " [0 1 1 0 0 0]\n",
      " [1 1 0 0 0 0]\n",
      " [0 0 0 0 0 0]\n",
      " [1 0 0 1 0 0]\n",
      " [1 1 1 1 1 0]\n",
      " [0 0 0 0 0 0]\n",
      " [0 1 0 0 0 0]\n",
      " [1 1 1 0 0 0]\n",
      " [0 1 1 0 0 0]\n",
      " [0 1 1 1 1 0]\n",
      " [0 1 1 0 0 0]\n",
      " [0 0 0 0 0 0]\n",
      " [0 0 0 0 0 0]\n",
      " [0 0 0 1 1 0]\n",
      " [0 0 1 0 0 0]\n",
      " [1 1 1 0 0 0]\n",
      " [1 1 1 1 1 1]\n",
      " [0 1 1 0 0 0]\n",
      " [0 0 0 0 0 0]\n",
      " [0 0 0 0 0 0]\n",
      " [0 0 0 0 0 0]\n",
      " [0 1 1 1 0 0]\n",
      " [0 0 0 0 0 0]\n",
      " [0 1 1 0 0 0]\n",
      " [0 0 0 0 0 0]\n",
      " [1 1 1 1 1 1]\n",
      " [0 0 0 0 0 0]\n",
      " [0 0 0 0 0 0]\n",
      " [0 0 0 0 0 0]\n",
      " [1 1 1 1 1 1]\n",
      " [1 1 1 1 0 0]\n",
      " [0 0 1 1 0 0]\n",
      " [0 0 0 1 1 0]\n",
      " [0 0 0 0 0 0]\n",
      " [0 0 0 0 0 0]\n",
      " [0 0 1 0 0 0]\n",
      " [1 1 1 0 0 0]\n",
      " [0 0 0 0 0 0]\n",
      " [0 1 1 0 0 0]\n",
      " [0 0 0 1 1 1]\n",
      " [0 1 1 0 0 0]\n",
      " [0 0 0 0 0 0]\n",
      " [0 1 1 0 0 0]\n",
      " [0 1 1 0 0 0]\n",
      " [0 0 1 0 0 0]\n",
      " [0 1 1 1 0 0]\n",
      " [0 0 0 1 1 0]\n",
      " [1 1 1 1 1 1]\n",
      " [0 0 0 0 0 1]\n",
      " [0 0 0 0 0 0]\n",
      " [0 1 1 1 0 0]\n",
      " [0 0 0 0 0 0]\n",
      " [0 0 0 0 0 0]\n",
      " [0 0 1 0 0 0]\n",
      " [0 0 0 0 0 0]\n",
      " [0 0 0 0 0 0]\n",
      " [0 0 1 0 0 0]\n",
      " [0 0 1 0 0 0]\n",
      " [0 0 0 0 0 0]\n",
      " [0 0 0 0 1 1]\n",
      " [1 1 1 1 1 1]\n",
      " [0 1 1 1 1 0]\n",
      " [0 0 0 0 0 0]\n",
      " [0 0 1 1 0 0]\n",
      " [0 0 0 0 1 1]\n",
      " [0 0 0 0 0 0]\n",
      " [0 0 0 0 0 0]\n",
      " [0 0 0 0 0 0]\n",
      " [0 0 0 0 0 0]\n",
      " [0 1 1 0 0 0]\n",
      " [0 1 1 1 0 0]\n",
      " [0 0 0 0 0 0]\n",
      " [1 1 1 1 1 1]\n",
      " [0 1 0 0 0 0]\n",
      " [0 0 1 1 1 0]\n",
      " [0 1 1 1 1 0]\n",
      " [0 0 0 0 0 0]\n",
      " [1 1 1 1 0 0]\n",
      " [0 0 1 1 1 1]\n",
      " [0 0 0 0 0 0]\n",
      " [0 0 0 0 0 0]\n",
      " [0 0 0 0 0 0]\n",
      " [0 0 0 0 0 0]\n",
      " [1 1 1 1 1 0]\n",
      " [0 0 1 0 0 0]\n",
      " [0 0 1 1 0 0]\n",
      " [0 1 1 1 1 0]\n",
      " [0 0 0 1 0 0]\n",
      " [0 0 1 1 0 0]\n",
      " [0 0 0 0 0 0]\n",
      " [0 0 0 0 0 0]\n",
      " [0 0 0 1 1 1]\n",
      " [0 0 0 0 0 0]\n",
      " [0 0 1 0 0 0]\n",
      " [1 1 0 0 0 1]\n",
      " [0 0 0 1 0 0]\n",
      " [1 1 1 1 1 1]\n",
      " [0 1 1 0 0 0]\n",
      " [0 0 0 0 0 0]]\n"
     ]
    }
   ],
   "source": [
    "import numpy as np\n",
    "\n",
    "# Load the file\n",
    "data = np.load('/kaggle/input/classifier-data/y_train.npy')\n",
    "\n",
    "# Print basic info\n",
    "print(\"Shape:\", data.shape)\n",
    "print(\"Data type:\", data.dtype)\n",
    "\n",
    "# Print the full array (for small arrays)\n",
    "print(\"Contents:\\n\", data)"
   ]
  },
  {
   "cell_type": "code",
   "execution_count": 6,
   "id": "fccf1cdf",
   "metadata": {
    "execution": {
     "iopub.execute_input": "2025-05-09T00:11:58.030176Z",
     "iopub.status.busy": "2025-05-09T00:11:58.029900Z",
     "iopub.status.idle": "2025-05-09T00:11:58.036207Z",
     "shell.execute_reply": "2025-05-09T00:11:58.035398Z"
    },
    "papermill": {
     "duration": 0.010873,
     "end_time": "2025-05-09T00:11:58.037564",
     "exception": false,
     "start_time": "2025-05-09T00:11:58.026691",
     "status": "completed"
    },
    "tags": []
   },
   "outputs": [
    {
     "name": "stdout",
     "output_type": "stream",
     "text": [
      "Shape: (33, 360)\n",
      "Data type: float64\n",
      "Contents:\n",
      " [[1.         0.84615385 1.         ... 0.5181818  0.39090908 0.69999999]\n",
      " [1.         0.99122807 0.82894737 ... 0.08231707 0.24085365 0.25304878]\n",
      " [1.         0.84393064 0.95953757 ... 0.23917997 0.23234625 0.2528474 ]\n",
      " ...\n",
      " [1.         1.         0.89595376 ... 0.27464789 0.41549295 0.45070425]\n",
      " [1.         0.79116466 0.93574297 ... 0.43378994 0.31963471 0.44292235]\n",
      " [1.         0.9408867  0.91133005 ... 0.34710744 0.36363637 0.49586779]]\n"
     ]
    }
   ],
   "source": [
    "import numpy as np\n",
    "\n",
    "# Load the file\n",
    "data = np.load('/kaggle/input/classifier-data/X_test.npy')\n",
    "\n",
    "# Print basic info\n",
    "print(\"Shape:\", data.shape)\n",
    "print(\"Data type:\", data.dtype)\n",
    "\n",
    "# Print the full array (for small arrays)\n",
    "print(\"Contents:\\n\", data)"
   ]
  }
 ],
 "metadata": {
  "kaggle": {
   "accelerator": "none",
   "dataSources": [
    {
     "datasetId": 7369674,
     "sourceId": 11739400,
     "sourceType": "datasetVersion"
    }
   ],
   "dockerImageVersionId": 31012,
   "isGpuEnabled": false,
   "isInternetEnabled": true,
   "language": "python",
   "sourceType": "notebook"
  },
  "kernelspec": {
   "display_name": "Python 3",
   "language": "python",
   "name": "python3"
  },
  "language_info": {
   "codemirror_mode": {
    "name": "ipython",
    "version": 3
   },
   "file_extension": ".py",
   "mimetype": "text/x-python",
   "name": "python",
   "nbconvert_exporter": "python",
   "pygments_lexer": "ipython3",
   "version": "3.11.11"
  },
  "papermill": {
   "default_parameters": {},
   "duration": 16.009785,
   "end_time": "2025-05-09T00:12:00.659550",
   "environment_variables": {},
   "exception": null,
   "input_path": "__notebook__.ipynb",
   "output_path": "__notebook__.ipynb",
   "parameters": {},
   "start_time": "2025-05-09T00:11:44.649765",
   "version": "2.6.0"
  }
 },
 "nbformat": 4,
 "nbformat_minor": 5
}
